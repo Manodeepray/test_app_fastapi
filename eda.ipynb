{
 "cells": [
  {
   "cell_type": "code",
   "execution_count": 2,
   "id": "33f3f503",
   "metadata": {},
   "outputs": [],
   "source": [
    "import pandas as pd\n",
    "import seaborn as sns\n",
    "\n",
    "df1 = pd.read_csv(\"./dataset/mnist_test.csv\")\n",
    "\n",
    "df2 = pd.read_csv(\"./dataset/mnist_train.csv\")\n",
    "\n",
    "data = pd.concat([df1,df2],axis = 0)\n"
   ]
  },
  {
   "cell_type": "code",
   "execution_count": 34,
   "id": "985073c4",
   "metadata": {},
   "outputs": [],
   "source": [
    "import os\n",
    "\n",
    "os.makedirs(\"./dataset/img_dataset\" , exist_ok = True)\n",
    "\n",
    "dataset_dir = \"./dataset/img_dataset\"\n",
    "\n"
   ]
  },
  {
   "cell_type": "code",
   "execution_count": 38,
   "id": "aacbd52a",
   "metadata": {},
   "outputs": [
    {
     "name": "stderr",
     "output_type": "stream",
     "text": [
      " 17%|████████████▊                                                              | 10248/59999 [00:30<02:29, 332.17it/s]\n"
     ]
    },
    {
     "ename": "KeyboardInterrupt",
     "evalue": "",
     "output_type": "error",
     "traceback": [
      "\u001b[1;31m---------------------------------------------------------------------------\u001b[0m",
      "\u001b[1;31mKeyboardInterrupt\u001b[0m                         Traceback (most recent call last)",
      "Cell \u001b[1;32mIn[38], line 19\u001b[0m\n\u001b[0;32m     17\u001b[0m filename \u001b[38;5;241m=\u001b[39m \u001b[38;5;124mf\u001b[39m\u001b[38;5;124m\"\u001b[39m\u001b[38;5;132;01m{\u001b[39;00mi\u001b[38;5;132;01m}\u001b[39;00m\u001b[38;5;124m.jpg\u001b[39m\u001b[38;5;124m\"\u001b[39m\n\u001b[0;32m     18\u001b[0m file_path \u001b[38;5;241m=\u001b[39m os\u001b[38;5;241m.\u001b[39mpath\u001b[38;5;241m.\u001b[39mjoin(dir_path,filename)\n\u001b[1;32m---> 19\u001b[0m plt\u001b[38;5;241m.\u001b[39mimsave(file_path,image)\n",
      "File \u001b[1;32m~\\anaconda3\\Lib\\site-packages\\matplotlib\\pyplot.py:2411\u001b[0m, in \u001b[0;36mimsave\u001b[1;34m(fname, arr, **kwargs)\u001b[0m\n\u001b[0;32m   2407\u001b[0m \u001b[38;5;129m@_copy_docstring_and_deprecators\u001b[39m(matplotlib\u001b[38;5;241m.\u001b[39mimage\u001b[38;5;241m.\u001b[39mimsave)\n\u001b[0;32m   2408\u001b[0m \u001b[38;5;28;01mdef\u001b[39;00m \u001b[38;5;21mimsave\u001b[39m(\n\u001b[0;32m   2409\u001b[0m     fname: \u001b[38;5;28mstr\u001b[39m \u001b[38;5;241m|\u001b[39m os\u001b[38;5;241m.\u001b[39mPathLike \u001b[38;5;241m|\u001b[39m BinaryIO, arr: ArrayLike, \u001b[38;5;241m*\u001b[39m\u001b[38;5;241m*\u001b[39mkwargs\n\u001b[0;32m   2410\u001b[0m ) \u001b[38;5;241m-\u001b[39m\u001b[38;5;241m>\u001b[39m \u001b[38;5;28;01mNone\u001b[39;00m:\n\u001b[1;32m-> 2411\u001b[0m     matplotlib\u001b[38;5;241m.\u001b[39mimage\u001b[38;5;241m.\u001b[39mimsave(fname, arr, \u001b[38;5;241m*\u001b[39m\u001b[38;5;241m*\u001b[39mkwargs)\n",
      "File \u001b[1;32m~\\anaconda3\\Lib\\site-packages\\matplotlib\\image.py:1652\u001b[0m, in \u001b[0;36mimsave\u001b[1;34m(fname, arr, vmin, vmax, cmap, format, origin, dpi, metadata, pil_kwargs)\u001b[0m\n\u001b[0;32m   1650\u001b[0m     color \u001b[38;5;241m=\u001b[39m \u001b[38;5;28mtuple\u001b[39m(\u001b[38;5;28mint\u001b[39m(x \u001b[38;5;241m*\u001b[39m \u001b[38;5;241m255\u001b[39m) \u001b[38;5;28;01mfor\u001b[39;00m x \u001b[38;5;129;01min\u001b[39;00m mcolors\u001b[38;5;241m.\u001b[39mto_rgb(facecolor))\n\u001b[0;32m   1651\u001b[0m     background \u001b[38;5;241m=\u001b[39m PIL\u001b[38;5;241m.\u001b[39mImage\u001b[38;5;241m.\u001b[39mnew(\u001b[38;5;124m\"\u001b[39m\u001b[38;5;124mRGB\u001b[39m\u001b[38;5;124m\"\u001b[39m, pil_shape, color)\n\u001b[1;32m-> 1652\u001b[0m     background\u001b[38;5;241m.\u001b[39mpaste(image, image)\n\u001b[0;32m   1653\u001b[0m     image \u001b[38;5;241m=\u001b[39m background\n\u001b[0;32m   1654\u001b[0m pil_kwargs\u001b[38;5;241m.\u001b[39msetdefault(\u001b[38;5;124m\"\u001b[39m\u001b[38;5;124mformat\u001b[39m\u001b[38;5;124m\"\u001b[39m, \u001b[38;5;28mformat\u001b[39m)\n",
      "File \u001b[1;32m~\\anaconda3\\Lib\\site-packages\\PIL\\Image.py:1855\u001b[0m, in \u001b[0;36mImage.paste\u001b[1;34m(self, im, box, mask)\u001b[0m\n\u001b[0;32m   1853\u001b[0m \u001b[38;5;28;01mif\u001b[39;00m mask:\n\u001b[0;32m   1854\u001b[0m     mask\u001b[38;5;241m.\u001b[39mload()\n\u001b[1;32m-> 1855\u001b[0m     \u001b[38;5;28mself\u001b[39m\u001b[38;5;241m.\u001b[39mim\u001b[38;5;241m.\u001b[39mpaste(source, box, mask\u001b[38;5;241m.\u001b[39mim)\n\u001b[0;32m   1856\u001b[0m \u001b[38;5;28;01melse\u001b[39;00m:\n\u001b[0;32m   1857\u001b[0m     \u001b[38;5;28mself\u001b[39m\u001b[38;5;241m.\u001b[39mim\u001b[38;5;241m.\u001b[39mpaste(source, box)\n",
      "\u001b[1;31mKeyboardInterrupt\u001b[0m: "
     ]
    }
   ],
   "source": [
    "\n",
    "# Image Dataset creation\n",
    "\n",
    "import matplotlib.pyplot as plt\n",
    "from tqdm import tqdm\n",
    "for i in tqdm(range(len(df2))):\n",
    "    \n",
    "    \n",
    "    # Assuming the first row is the first image\n",
    "    image = df2.iloc[0, 1:].values.reshape(28, 28)\n",
    "#     plt.imshow(image, cmap='gray')\n",
    "#     plt.title(f\"Label: {df2.iloc[i, 0]}\")\n",
    "#     plt.show()\n",
    "    \n",
    "    dir_path = os.path.join(dataset_dir,str(df2.iloc[i, 0]))\n",
    "    os.makedirs(dir_path , exist_ok = True)\n",
    "    \n",
    "    filename = f\"{i}.jpg\"\n",
    "    file_path = os.path.join(dir_path,filename)\n",
    "    plt.imsave(file_path,image)\n",
    "    "
   ]
  },
  {
   "cell_type": "code",
   "execution_count": null,
   "id": "1594ff42",
   "metadata": {},
   "outputs": [],
   "source": [
    "for i in tqdm(range(len(df2))):\n",
    "    \n",
    "    \n",
    "    # Assuming the first row is the first image\n",
    "    image = df1.iloc[0, 1:].values.reshape(28, 28)\n",
    "#     plt.imshow(image, cmap='gray')\n",
    "#     plt.title(f\"Label: {df2.iloc[i, 0]}\")\n",
    "#     plt.show()\n",
    "    \n",
    "    dir_path = os.path.join(dataset_dir,str(df2.iloc[i, 0]))\n",
    "    os.makedirs(dir_path , exist_ok = True)\n",
    "    \n",
    "    filename = f\"{i}_train.jpg\"\n",
    "    file_path = os.path.join(dir_path,filename)\n",
    "    plt.imsave(file_path,image)"
   ]
  },
  {
   "cell_type": "code",
   "execution_count": 3,
   "id": "6afd1a7b",
   "metadata": {},
   "outputs": [],
   "source": [
    "test_df = pd.read_csv(\"./dataset/mnist_test.csv\")\n",
    "\n",
    "train_df = pd.read_csv(\"./dataset/mnist_train.csv\")"
   ]
  },
  {
   "cell_type": "code",
   "execution_count": 4,
   "id": "6a80c599",
   "metadata": {},
   "outputs": [
    {
     "name": "stdout",
     "output_type": "stream",
     "text": [
      "Train data shape: (59999, 785)\n",
      "Test data shape: (9999, 785)\n",
      "Missing values in train data:\n",
      " 5        0\n",
      "0        0\n",
      "0.1      0\n",
      "0.2      0\n",
      "0.3      0\n",
      "        ..\n",
      "0.613    0\n",
      "0.614    0\n",
      "0.615    0\n",
      "0.616    0\n",
      "0.617    0\n",
      "Length: 785, dtype: int64\n",
      "Missing values in test data:\n",
      " 7        0\n",
      "0        0\n",
      "0.1      0\n",
      "0.2      0\n",
      "0.3      0\n",
      "        ..\n",
      "0.663    0\n",
      "0.664    0\n",
      "0.665    0\n",
      "0.666    0\n",
      "0.667    0\n",
      "Length: 785, dtype: int64\n",
      "   5  0  0.1  0.2  0.3  0.4  0.5  0.6  0.7  0.8  ...  0.608  0.609  0.610  \\\n",
      "0  0  0    0    0    0    0    0    0    0    0  ...      0      0      0   \n",
      "1  4  0    0    0    0    0    0    0    0    0  ...      0      0      0   \n",
      "2  1  0    0    0    0    0    0    0    0    0  ...      0      0      0   \n",
      "3  9  0    0    0    0    0    0    0    0    0  ...      0      0      0   \n",
      "4  2  0    0    0    0    0    0    0    0    0  ...      0      0      0   \n",
      "\n",
      "   0.611  0.612  0.613  0.614  0.615  0.616  0.617  \n",
      "0      0      0      0      0      0      0      0  \n",
      "1      0      0      0      0      0      0      0  \n",
      "2      0      0      0      0      0      0      0  \n",
      "3      0      0      0      0      0      0      0  \n",
      "4      0      0      0      0      0      0      0  \n",
      "\n",
      "[5 rows x 785 columns]\n"
     ]
    }
   ],
   "source": [
    "# Check the shape of the datasets\n",
    "print(\"Train data shape:\", train_df.shape)\n",
    "print(\"Test data shape:\", test_df.shape)\n",
    "\n",
    "# Check for missing values\n",
    "print(\"Missing values in train data:\\n\", train_df.isnull().sum())\n",
    "print(\"Missing values in test data:\\n\", test_df.isnull().sum())\n",
    "\n",
    "# Display the first few rows of the training data\n",
    "print(train_df.head())"
   ]
  },
  {
   "cell_type": "code",
   "execution_count": 5,
   "id": "f33e342c",
   "metadata": {},
   "outputs": [
    {
     "data": {
      "image/png": "[encoded data removed]",
      "text/plain": [
       "<Figure size 1000x500 with 1 Axes>"
      ]
     },
     "metadata": {},
     "output_type": "display_data"
    },
    {
     "data": {
      "image/png": "[encoded data removed]",
      "text/plain": [
       "<Figure size 1000x500 with 1 Axes>"
      ]
     },
     "metadata": {},
     "output_type": "display_data"
    }
   ],
   "source": [
    "import matplotlib.pyplot as plt\n",
    "import seaborn as sns\n",
    "\n",
    "# Plot the distribution of labels in the training data\n",
    "plt.figure(figsize=(10, 5))\n",
    "sns.countplot(x=train_df.iloc[:, 0], palette='viridis')  # Use the 0th column as labels\n",
    "plt.title(\"Distribution of Labels in Training Data\")\n",
    "plt.xlabel(\"Digit\")\n",
    "plt.ylabel(\"Count\")\n",
    "plt.show()\n",
    "\n",
    "# Plot the distribution of labels in the testing data\n",
    "plt.figure(figsize=(10, 5))\n",
    "sns.countplot(x=test_df.iloc[:, 0], palette='viridis')  # Use the 0th column as labels\n",
    "plt.title(\"Distribution of Labels in Testing Data\")\n",
    "plt.xlabel(\"Digit\")\n",
    "plt.ylabel(\"Count\")\n",
    "plt.show()"
   ]
  },
  {
   "cell_type": "code",
   "execution_count": 6,
   "id": "9e6e3539",
   "metadata": {},
   "outputs": [
    {
     "data": {
      "image/png": "[encoded data removed]",
      "text/plain": [
       "<Figure size 1000x500 with 5 Axes>"
      ]
     },
     "metadata": {},
     "output_type": "display_data"
    },
    {
     "data": {
      "image/png": "[encoded data removed]",
      "text/plain": [
       "<Figure size 1000x500 with 5 Axes>"
      ]
     },
     "metadata": {},
     "output_type": "display_data"
    }
   ],
   "source": [
    "# Function to plot sample images\n",
    "def plot_sample_images(data, num_samples=5):\n",
    "    plt.figure(figsize=(10, 5))\n",
    "    for i in range(num_samples):\n",
    "        # Reshape the flattened image to 28x28\n",
    "        image = data.iloc[i, 1:].values.reshape(28, 28)\n",
    "        plt.subplot(1, num_samples, i + 1)\n",
    "        plt.imshow(image, cmap='gray')\n",
    "        plt.title(f\"Label: {data.iloc[i, 0]}\")\n",
    "        plt.axis('off')\n",
    "    plt.show()\n",
    "\n",
    "# Plot sample images from the training data\n",
    "plot_sample_images(train_df)\n",
    "\n",
    "# Plot sample images from the testing data\n",
    "plot_sample_images(test_df)"
   ]
  },
  {
   "cell_type": "code",
   "execution_count": null,
   "id": "799e3836",
   "metadata": {},
   "outputs": [
    {
     "name": "stderr",
     "output_type": "stream",
     "text": [
      "C:\\Users\\KIIT\\anaconda3\\Lib\\site-packages\\seaborn\\_oldcore.py:1119: FutureWarning: use_inf_as_na option is deprecated and will be removed in a future version. Convert inf values to NaN before operating instead.\n",
      "  with pd.option_context('mode.use_inf_as_na', True):\n"
     ]
    }
   ],
   "source": [
    "# Flatten all pixel values (excluding the label column)\n",
    "train_pixels = train_df.iloc[:, 1:].values.flatten()\n",
    "test_pixels = test_df.iloc[:, 1:].values.flatten()\n",
    "\n",
    "# Plot the distribution of pixel intensities\n",
    "plt.figure(figsize=(10, 5))\n",
    "sns.histplot(train_pixels, bins=50, color='blue', label='Train Data', kde=True)\n",
    "sns.histplot(test_pixels, bins=50, color='orange', label='Test Data', kde=True)\n",
    "plt.title(\"Distribution of Pixel Intensities\")\n",
    "plt.xlabel(\"Pixel Intensity\")\n",
    "plt.ylabel(\"Frequency\")\n",
    "plt.legend()\n",
    "plt.show()"
   ]
  },
  {
   "cell_type": "code",
   "execution_count": 8,
   "id": "ec844c96",
   "metadata": {},
   "outputs": [
    {
     "name": "stdout",
     "output_type": "stream",
     "text": [
      "Training data class distribution:\n",
      " 5\n",
      "1    6742\n",
      "7    6265\n",
      "3    6131\n",
      "2    5958\n",
      "9    5949\n",
      "0    5923\n",
      "6    5918\n",
      "8    5851\n",
      "4    5842\n",
      "5    5420\n",
      "Name: count, dtype: int64\n",
      "Testing data class distribution:\n",
      " 7\n",
      "1    1135\n",
      "2    1032\n",
      "7    1027\n",
      "3    1010\n",
      "9    1009\n",
      "4     982\n",
      "0     980\n",
      "8     974\n",
      "6     958\n",
      "5     892\n",
      "Name: count, dtype: int64\n"
     ]
    }
   ],
   "source": [
    "# Check the number of samples per class in the training data\n",
    "print(\"Training data class distribution:\\n\", train_df.iloc[:, 0].value_counts())\n",
    "\n",
    "# Check the number of samples per class in the testing data\n",
    "print(\"Testing data class distribution:\\n\", test_df.iloc[:, 0].value_counts())"
   ]
  },
  {
   "cell_type": "code",
   "execution_count": null,
   "id": "b60386f0",
   "metadata": {},
   "outputs": [],
   "source": [
    "# Compute the correlation matrix\n",
    "corr_matrix = train_df.corr()\n",
    "\n",
    "# Plot the correlation matrix\n",
    "plt.figure(figsize=(12, 8))\n",
    "sns.heatmap(corr_matrix, cmap='coolwarm', annot=False)\n",
    "plt.title(\"Correlation Matrix\")\n",
    "plt.show()"
   ]
  },
  {
   "cell_type": "code",
   "execution_count": null,
   "id": "d07f50e2",
   "metadata": {},
   "outputs": [],
   "source": [
    "from sklearn.decomposition import PCA\n",
    "\n",
    "# Apply PCA to reduce dimensions\n",
    "pca = PCA(n_components=2)\n",
    "train_reduced = pca.fit_transform(train_df.iloc[:, 1:])\n",
    "\n",
    "# Plot the reduced data\n",
    "plt.figure(figsize=(10, 7))\n",
    "sns.scatterplot(x=train_reduced[:, 0], y=train_reduced[:, 1], hue=train_df['label'], palette='viridis')\n",
    "plt.title(\"PCA of MNIST Data\")\n",
    "plt.xlabel(\"Principal Component 1\")\n",
    "plt.ylabel(\"Principal Component 2\")\n",
    "plt.show()"
   ]
  }
 ],
 "metadata": {
  "kernelspec": {
   "display_name": "Python 3 (ipykernel)",
   "language": "python",
   "name": "python3"
  },
  "language_info": {
   "codemirror_mode": {
    "name": "ipython",
    "version": 3
   },
   "file_extension": ".py",
   "mimetype": "text/x-python",
   "name": "python",
   "nbconvert_exporter": "python",
   "pygments_lexer": "ipython3",
   "version": "3.11.9"
  }
 },
 "nbformat": 4,
 "nbformat_minor": 5
}
